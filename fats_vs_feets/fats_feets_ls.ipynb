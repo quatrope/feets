{
 "cells": [
  {
   "cell_type": "code",
   "execution_count": 12,
   "metadata": {},
   "outputs": [],
   "source": [
    "import os\n",
    "import numpy as np\n",
    "\n",
    "import feets\n",
    "\n",
    "%matplotlib inline\n",
    "import matplotlib.pyplot as plt"
   ]
  },
  {
   "cell_type": "code",
   "execution_count": 2,
   "metadata": {},
   "outputs": [
    {
     "data": {
      "text/plain": [
       "(array([-6.081, -6.041, -6.046, ..., -6.009, -5.985, -5.997]),\n",
       " array([ 48823.477419,  48823.487014,  48823.496759, ...,  51531.401331,\n",
       "         51541.344537,  51546.325197]))"
      ]
     },
     "execution_count": 2,
     "metadata": {},
     "output_type": "execute_result"
    }
   ],
   "source": [
    "fs = feets.FeatureSpace()\n",
    "\n",
    "data_path = os.path.join(\n",
    "    os.path.abspath(os.path.dirname(feets.tests.__file__)), \"data\"\n",
    ")\n",
    "lc_path = os.path.join(data_path, \"lc_1.3444.614.B_R.npz\")\n",
    "\n",
    "# recreate the lightcurve\n",
    "with np.load(lc_path) as npz:\n",
    "    magnitude = npz[\"mag\"]\n",
    "    time = npz[\"time\"]\n",
    "\n",
    "magnitude, time"
   ]
  },
  {
   "cell_type": "markdown",
   "metadata": {},
   "source": [
    "## FATS\n",
    "\n",
    "## Lomb-Scargle Single"
   ]
  },
  {
   "cell_type": "code",
   "execution_count": 3,
   "metadata": {},
   "outputs": [
    {
     "name": "stdout",
     "output_type": "stream",
     "text": [
      "CPU times: user 1.95 s, sys: 37.7 ms, total: 1.99 s\n",
      "Wall time: 1.99 s\n"
     ]
    },
    {
     "data": {
      "text/plain": [
       "{u'PeriodLS': 0.93697445905023935,\n",
       " u'Period_fit': 3.1076457440343504e-113,\n",
       " u'Psi_CS': 0.19179114069585729,\n",
       " u'Psi_eta': 0.58910268294132195}"
      ]
     },
     "execution_count": 3,
     "metadata": {},
     "output_type": "execute_result"
    }
   ],
   "source": [
    "from ext_lomb_scargle_orig import LombScargle as FATSLombScargle\n",
    "\n",
    "lscargle = FATSLombScargle(fs)\n",
    "%time fats_ls = lscargle.fit(magnitude, time, 6.)\n",
    "fats_ls"
   ]
  },
  {
   "cell_type": "markdown",
   "metadata": {},
   "source": [
    "## Fourier Single"
   ]
  },
  {
   "cell_type": "code",
   "execution_count": 4,
   "metadata": {},
   "outputs": [
    {
     "name": "stdout",
     "output_type": "stream",
     "text": [
      "CPU times: user 4.58 s, sys: 155 ms, total: 4.73 s\n",
      "Wall time: 4.74 s\n"
     ]
    },
    {
     "data": {
      "text/plain": [
       "{u'Freq1_harmonics_amplitude_0': 0.13437970328353993,\n",
       " u'Freq1_harmonics_amplitude_1': 0.081782104118858376,\n",
       " u'Freq1_harmonics_amplitude_2': 0.050870593434863394,\n",
       " u'Freq1_harmonics_amplitude_3': 0.026198886228252748,\n",
       " u'Freq1_harmonics_rel_phase_0': 0.0,\n",
       " u'Freq1_harmonics_rel_phase_1': 0.3589872505549615,\n",
       " u'Freq1_harmonics_rel_phase_2': 0.78373753802371693,\n",
       " u'Freq1_harmonics_rel_phase_3': 1.3148411065542653,\n",
       " u'Freq2_harmonics_amplitude_0': 0.018352699400037011,\n",
       " u'Freq2_harmonics_amplitude_1': 0.0034160005551770825,\n",
       " u'Freq2_harmonics_amplitude_2': 0.0066381176236686131,\n",
       " u'Freq2_harmonics_amplitude_3': 0.0046673565716580726,\n",
       " u'Freq2_harmonics_rel_phase_0': 0.0,\n",
       " u'Freq2_harmonics_rel_phase_1': 3.0847901594538767,\n",
       " u'Freq2_harmonics_rel_phase_2': 0.46900853382169272,\n",
       " u'Freq2_harmonics_rel_phase_3': 1.7759627063676815,\n",
       " u'Freq3_harmonics_amplitude_0': 0.016548089932575488,\n",
       " u'Freq3_harmonics_amplitude_1': 0.0018836266253220439,\n",
       " u'Freq3_harmonics_amplitude_2': 0.0066137737410486199,\n",
       " u'Freq3_harmonics_amplitude_3': 0.0037519588879090077,\n",
       " u'Freq3_harmonics_rel_phase_0': 0.0,\n",
       " u'Freq3_harmonics_rel_phase_1': 0.6203278737406015,\n",
       " u'Freq3_harmonics_rel_phase_2': -0.12834156047674433,\n",
       " u'Freq3_harmonics_rel_phase_3': -1.2891601547254568}"
      ]
     },
     "execution_count": 4,
     "metadata": {},
     "output_type": "execute_result"
    }
   ],
   "source": [
    "from ext_fourier_components_orig import (\n",
    "    FourierComponents as FATSFourierComponents,\n",
    ")\n",
    "\n",
    "fc = FATSFourierComponents(fs)\n",
    "%time fats_fc = fc.fit(magnitude, time, 6.)\n",
    "fats_fc"
   ]
  },
  {
   "cell_type": "markdown",
   "metadata": {},
   "source": [
    "----\n",
    "\n",
    "## feets\n",
    "\n",
    "## Lomb-Scargle Single"
   ]
  },
  {
   "cell_type": "code",
   "execution_count": 5,
   "metadata": {},
   "outputs": [
    {
     "name": "stdout",
     "output_type": "stream",
     "text": [
      "CPU times: user 86.5 ms, sys: 3.92 ms, total: 90.4 ms\n",
      "Wall time: 91 ms\n"
     ]
    },
    {
     "data": {
      "text/plain": [
       "{u'PeriodLS': 0.93694759085825552,\n",
       " u'Period_fit': 0.0,\n",
       " u'Psi_CS': 0.19014757424308459,\n",
       " u'Psi_eta': 0.66944304684644684}"
      ]
     },
     "execution_count": 5,
     "metadata": {},
     "output_type": "execute_result"
    }
   ],
   "source": [
    "from feets.extractors.ext_lomb_scargle import (\n",
    "    LombScargle as FeetsLombScargle,\n",
    "    lscargle as ls,\n",
    ")\n",
    "\n",
    "lscargle = FeetsLombScargle(fs)\n",
    "fasper_kwds = {\n",
    "    \"autopower_kwds\": {\"samples_per_peak\": 6.0, \"nyquist_factor\": 10}\n",
    "}\n",
    "\n",
    "params = {\n",
    "    \"lscargle_kwds\": {\n",
    "        \"autopower_kwds\": {\n",
    "            \"normalization\": \"standard\",\n",
    "            \"samples_per_peak\": 6.0,\n",
    "            \"nyquist_factor\": 10,\n",
    "        }\n",
    "    },\n",
    "    \"fap_kwds\": {\"normalization\": \"standard\", \"method\": \"simple\"},\n",
    "}\n",
    "\n",
    "\n",
    "%time feets_ls = lscargle.fit(magnitude, time, **params)\n",
    "feets_ls"
   ]
  },
  {
   "cell_type": "markdown",
   "metadata": {},
   "source": [
    "## Fourier single"
   ]
  },
  {
   "cell_type": "code",
   "execution_count": 6,
   "metadata": {},
   "outputs": [
    {
     "name": "stdout",
     "output_type": "stream",
     "text": [
      "CPU times: user 1.59 s, sys: 124 ms, total: 1.72 s\n",
      "Wall time: 1.72 s\n"
     ]
    },
    {
     "data": {
      "text/plain": [
       "{u'Freq1_harmonics_amplitude_0': 0.13343381203485169,\n",
       " u'Freq1_harmonics_amplitude_1': 0.078404211897825205,\n",
       " u'Freq1_harmonics_amplitude_2': 0.050566009236220351,\n",
       " u'Freq1_harmonics_amplitude_3': 0.026084952269435833,\n",
       " u'Freq1_harmonics_rel_phase_0': 0.0,\n",
       " u'Freq1_harmonics_rel_phase_1': 0.15681150010700362,\n",
       " u'Freq1_harmonics_rel_phase_2': 0.40575216196173691,\n",
       " u'Freq1_harmonics_rel_phase_3': 0.66531282827202887,\n",
       " u'Freq2_harmonics_amplitude_0': 0.016620167734147397,\n",
       " u'Freq2_harmonics_amplitude_1': 0.0033078430295522005,\n",
       " u'Freq2_harmonics_amplitude_2': 0.0031285480277133165,\n",
       " u'Freq2_harmonics_amplitude_3': 0.0037513261381000875,\n",
       " u'Freq2_harmonics_rel_phase_0': 0.0,\n",
       " u'Freq2_harmonics_rel_phase_1': 1.6636661340599668,\n",
       " u'Freq2_harmonics_rel_phase_2': 0.76712330033137777,\n",
       " u'Freq2_harmonics_rel_phase_3': 0.63634805297099672,\n",
       " u'Freq3_harmonics_amplitude_0': 0.015784199676424832,\n",
       " u'Freq3_harmonics_amplitude_1': 0.0024911941274430413,\n",
       " u'Freq3_harmonics_amplitude_2': 0.0041985558013307306,\n",
       " u'Freq3_harmonics_amplitude_3': 0.0075299100945585172,\n",
       " u'Freq3_harmonics_rel_phase_0': 0.0,\n",
       " u'Freq3_harmonics_rel_phase_1': 0.36258980526191553,\n",
       " u'Freq3_harmonics_rel_phase_2': -0.40825874565281195,\n",
       " u'Freq3_harmonics_rel_phase_3': -2.0682504859831154}"
      ]
     },
     "execution_count": 6,
     "metadata": {},
     "output_type": "execute_result"
    }
   ],
   "source": [
    "from feets.extractors.ext_fourier_components import (\n",
    "    FourierComponents as FeetsFourierComponents,\n",
    ")\n",
    "\n",
    "fc = FeetsFourierComponents(fs)\n",
    "fasper_kwds = {\n",
    "    \"autopower_kwds\": {\"samples_per_peak\": 6.0, \"nyquist_factor\": 100}\n",
    "}\n",
    "%time feets_fc = fc.fit(magnitude, time, lscargle_kwds=fasper_kwds)\n",
    "feets_fc"
   ]
  },
  {
   "cell_type": "markdown",
   "metadata": {},
   "source": [
    "# Timeit"
   ]
  },
  {
   "cell_type": "code",
   "execution_count": 7,
   "metadata": {},
   "outputs": [
    {
     "name": "stdout",
     "output_type": "stream",
     "text": [
      "10 loops, best of 3: 1.56 s per loop\n"
     ]
    }
   ],
   "source": [
    "%%timeit -n 10\n",
    "lscargle = FATSLombScargle(fs)\n",
    "fats_ls = lscargle.fit(magnitude, time, 6.0)"
   ]
  },
  {
   "cell_type": "code",
   "execution_count": 8,
   "metadata": {},
   "outputs": [
    {
     "name": "stdout",
     "output_type": "stream",
     "text": [
      "10 loops, best of 3: 68.4 ms per loop\n"
     ]
    }
   ],
   "source": [
    "%%timeit -n 10\n",
    "feets_ls = FeetsLombScargle\n",
    "feets_ls = lscargle.fit(magnitude, time, **params)"
   ]
  },
  {
   "cell_type": "markdown",
   "metadata": {},
   "source": [
    "# Check Period-Fit"
   ]
  },
  {
   "cell_type": "code",
   "execution_count": 9,
   "metadata": {},
   "outputs": [
    {
     "data": {
      "text/plain": [
       "{u'PeriodLS': 0.21549530263056282,\n",
       " u'Period_fit': 1.0,\n",
       " u'Psi_CS': 0.01796635018421806,\n",
       " u'Psi_eta': 1.9822363127179898}"
      ]
     },
     "execution_count": 9,
     "metadata": {},
     "output_type": "execute_result"
    }
   ],
   "source": [
    "# Create a normal distributed light curve\n",
    "mag_normal = np.random.normal(size=10000)\n",
    "time_normal = np.arange(10000)\n",
    "\n",
    "lscargle.fit(mag_normal, time_normal, **params)"
   ]
  },
  {
   "cell_type": "code",
   "execution_count": 10,
   "metadata": {},
   "outputs": [
    {
     "data": {
      "text/plain": [
       "{u'PeriodLS': 0.20958126715026559,\n",
       " u'Period_fit': 1.0,\n",
       " u'Psi_CS': 0.016809209356035283,\n",
       " u'Psi_eta': 1.9741073028293359}"
      ]
     },
     "execution_count": 10,
     "metadata": {},
     "output_type": "execute_result"
    }
   ],
   "source": [
    "# Create uniform light-curve\n",
    "mag_uniform = np.random.uniform(size=10000)\n",
    "time_uniform = np.arange(10000)\n",
    "\n",
    "lscargle.fit(mag_uniform, time_uniform, **params)"
   ]
  },
  {
   "cell_type": "code",
   "execution_count": 11,
   "metadata": {},
   "outputs": [
    {
     "data": {
      "text/plain": [
       "{u'PeriodLS': 0.20408864456278986,\n",
       " u'Period_fit': 0.0,\n",
       " u'Psi_CS': 0.21765105487287698,\n",
       " u'Psi_eta': 0.089017191996318051}"
      ]
     },
     "execution_count": 11,
     "metadata": {},
     "output_type": "execute_result"
    }
   ],
   "source": [
    "# periodic light-curve\n",
    "\n",
    "N = 100\n",
    "time_periodic = np.arange(N)\n",
    "Period = 10\n",
    "cov = np.zeros([N, N])\n",
    "mean = np.zeros(N)\n",
    "for i in np.arange(N):\n",
    "    for j in np.arange(N):\n",
    "        cov[i, j] = np.exp(-(np.sin((np.pi / Period) * (i - j)) ** 2))\n",
    "mag_periodic = np.random.multivariate_normal(mean, cov)\n",
    "\n",
    "fasper_kwds = {\n",
    "    \"autopower_kwds\": {\"samples_per_peak\": 20.0, \"nyquist_factor\": 6}\n",
    "}\n",
    "lscargle.fit(mag_periodic, time_periodic, **params)"
   ]
  }
 ],
 "metadata": {
  "kernelspec": {
   "display_name": "Python 2",
   "language": "python",
   "name": "python2"
  },
  "language_info": {
   "codemirror_mode": {
    "name": "ipython",
    "version": 2
   },
   "file_extension": ".py",
   "mimetype": "text/x-python",
   "name": "python",
   "nbconvert_exporter": "python",
   "pygments_lexer": "ipython2",
   "version": "2.7.6"
  }
 },
 "nbformat": 4,
 "nbformat_minor": 2
}
