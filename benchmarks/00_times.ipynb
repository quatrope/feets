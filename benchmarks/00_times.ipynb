{
 "cells": [
  {
   "cell_type": "markdown",
   "id": "3e941510-6444-407b-881b-8b53ce07031c",
   "metadata": {},
   "source": [
    "# Calculo de tiempos de ejecucion\n",
    "\n",
    "## 1. Crear 10 mil curvas de luz que ocupen todos los extractores."
   ]
  },
  {
   "cell_type": "code",
   "execution_count": 3,
   "id": "3b273076-2be1-4ff8-8c3b-725d6b1f8fad",
   "metadata": {},
   "outputs": [],
   "source": [
    "import joblib"
   ]
  },
  {
   "cell_type": "code",
   "execution_count": 6,
   "id": "cc9932a0-5125-4fc7-832e-6dee5692b22f",
   "metadata": {},
   "outputs": [],
   "source": [
    "try:\n",
    "    all_curves = joblib.load(\"cache/all_curves.jpkl.bz2\")\n",
    "except FileNotFoundError:\n",
    "    # calcula todas las curva\n",
    "    pass"
   ]
  },
  {
   "cell_type": "markdown",
   "id": "b2be4737-ec28-40d6-baf0-42bba98de7fc",
   "metadata": {},
   "source": [
    "## 2. Dividirlas en 5 grupos de tamaño: 100, 500, 1000, 5000, 10000."
   ]
  },
  {
   "cell_type": "code",
   "execution_count": 7,
   "id": "a3ed6f53-3259-4d69-b4af-de2b09705036",
   "metadata": {},
   "outputs": [
    {
     "ename": "NameError",
     "evalue": "name 'all_curves' is not defined",
     "output_type": "error",
     "traceback": [
      "\u001b[0;31m---------------------------------------------------------------------------\u001b[0m",
      "\u001b[0;31mNameError\u001b[0m                                 Traceback (most recent call last)",
      "Cell \u001b[0;32mIn[7], line 7\u001b[0m\n\u001b[1;32m      3\u001b[0m \u001b[38;5;28;01mexcept\u001b[39;00m \u001b[38;5;167;01mFileNotFoundError\u001b[39;00m:\n\u001b[1;32m      4\u001b[0m     \u001b[38;5;66;03m# calcula todas las curva\u001b[39;00m\n\u001b[1;32m      5\u001b[0m     \u001b[38;5;28;01mpass\u001b[39;00m\n\u001b[0;32m----> 7\u001b[0m c100 \u001b[38;5;241m=\u001b[39m \u001b[43mall_curves\u001b[49m[c100]\n\u001b[1;32m      8\u001b[0m \u001b[38;5;241m.\u001b[39m\u001b[38;5;241m.\u001b[39m\u001b[38;5;241m.\u001b[39m\n\u001b[1;32m      9\u001b[0m c1000 \u001b[38;5;241m=\u001b[39m all_curves[c1000]\n",
      "\u001b[0;31mNameError\u001b[0m: name 'all_curves' is not defined"
     ]
    }
   ],
   "source": [
    "try:\n",
    "    c100, c500, c1000, c5000, c10000 = joblib.load(\"cache/split.jpkl.bz2\")\n",
    "except FileNotFoundError:\n",
    "    # calcula todas las curva\n",
    "    pass\n",
    "\n",
    "c100 = all_curves[c100]\n",
    "...\n",
    "c1000 = all_curves[c1000]"
   ]
  },
  {
   "cell_type": "markdown",
   "id": "c6a33bb2-9df7-4969-a83a-c249b20add6b",
   "metadata": {},
   "source": [
    "## 3. Crear un feature space que use todos los extractores\n",
    "## 4. Correr los extratores para cada unos de los conjuntos de datos, para sprocess, threading, multiprocess.\n",
    "## 5. Graficar lineas y cajas de tiempo."
   ]
  },
  {
   "cell_type": "code",
   "execution_count": null,
   "id": "620c52d8-15d4-4abd-94fa-6745d5f2bbdd",
   "metadata": {},
   "outputs": [],
   "source": [
    "import pynono as py9\n",
    "\n",
    "\n",
    "@benchmark.param(a=1,2,3)\n",
    "@ben\n",
    "def zaraza(a, b, c):"
   ]
  }
 ],
 "metadata": {
  "kernelspec": {
   "display_name": "Python 3 (ipykernel)",
   "language": "python",
   "name": "python3"
  },
  "language_info": {
   "codemirror_mode": {
    "name": "ipython",
    "version": 3
   },
   "file_extension": ".py",
   "mimetype": "text/x-python",
   "name": "python",
   "nbconvert_exporter": "python",
   "pygments_lexer": "ipython3",
   "version": "3.10.12"
  }
 },
 "nbformat": 4,
 "nbformat_minor": 5
}
