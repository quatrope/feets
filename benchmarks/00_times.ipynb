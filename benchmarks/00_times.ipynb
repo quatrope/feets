{
 "cells": [
  {
   "cell_type": "code",
   "execution_count": 1,
   "id": "3b273076-2be1-4ff8-8c3b-725d6b1f8fad",
   "metadata": {},
   "outputs": [],
   "source": [
    "from timeit import default_timer as timer\n",
    "\n",
    "import joblib\n",
    "\n",
    "import matplotlib.pyplot as plt\n",
    "\n",
    "import numpy as np\n",
    "\n",
    "import feets\n",
    "from feets.extractors import DATAS\n",
    "\n",
    "import pandas as pd"
   ]
  },
  {
   "cell_type": "code",
   "execution_count": 2,
   "id": "a86c4fa6",
   "metadata": {},
   "outputs": [],
   "source": [
    "def periodic_light_curve(*, length=100, random=None, period=10):\n",
    "    random = np.random.default_rng(random)\n",
    "    cov = np.exp(\n",
    "        -np.sin(\n",
    "            (np.pi / period)\n",
    "            * np.subtract.outer(np.arange(length), np.arange(length))\n",
    "        )\n",
    "        ** 2\n",
    "    )\n",
    "\n",
    "    time = np.arange(length)\n",
    "    error = random.uniform(0, 0.08, length)\n",
    "    magnitude = random.multivariate_normal(mean=np.zeros(length), cov=cov)\n",
    "\n",
    "    return {\n",
    "        \"time\": time,\n",
    "        \"magnitude\": magnitude,\n",
    "        \"error\": error,\n",
    "        \"magnitude2\": magnitude,\n",
    "        \"error2\": error,\n",
    "        \"aligned_time\": time,\n",
    "        \"aligned_magnitude\": magnitude,\n",
    "        \"aligned_error\": error,\n",
    "        \"aligned_magnitude2\": magnitude,\n",
    "        \"aligned_error2\": error,\n",
    "    }\n",
    "\n",
    "\n",
    "def periodic_light_curve_group(*, group_size, lc_length):\n",
    "    return [periodic_light_curve(length=lc_length) for _ in range(group_size)]"
   ]
  },
  {
   "cell_type": "code",
   "execution_count": null,
   "id": "04f2c53d",
   "metadata": {},
   "outputs": [],
   "source": [
    "periodic_lc = periodic_light_curve(length=100, period=20, random=42)\n",
    "\n",
    "fig, ax = plt.subplots()\n",
    "ax.errorbar(\n",
    "    periodic_lc[\"time\"],\n",
    "    periodic_lc[\"magnitude\"],\n",
    "    periodic_lc[\"error\"],\n",
    "    fmt=\".-\",\n",
    "    ecolor=\"red\",\n",
    ")\n",
    "\n",
    "ax.set_title(\"Periodic light curve of size 100\")\n",
    "ax.set_ylabel('Magnitude')\n",
    "ax.set_xlabel('Time')\n",
    "\n",
    "fig.tight_layout()"
   ]
  },
  {
   "cell_type": "code",
   "execution_count": 4,
   "metadata": {},
   "outputs": [],
   "source": [
    "def run(*, lc_group, scheduler):\n",
    "    fs = feets.FeatureSpace(dask_options={\"scheduler\": scheduler})\n",
    "\n",
    "    start = timer()\n",
    "    features = fs.extract(*lc_group)\n",
    "    end = timer()\n",
    "\n",
    "    return end - start, features\n",
    "\n",
    "\n",
    "lc_lengths = [30, 100, 300, 1000]\n",
    "group_sizes = [1, 50, 100, 500, 1000]\n",
    "schedulers = [\"synchronous\", \"threads\", \"processes\"]\n",
    "iters = 1000"
   ]
  },
  {
   "cell_type": "code",
   "execution_count": null,
   "id": "b43bdbb0",
   "metadata": {},
   "outputs": [],
   "source": [
    "results = []\n",
    "for group_size in group_sizes:\n",
    "    for lc_length in lc_lengths:\n",
    "        for scheduler in schedulers:\n",
    "            for it in range(iters):\n",
    "                lc_group = periodic_light_curve_group(\n",
    "                    group_size=group_size, lc_length=lc_length\n",
    "                )\n",
    "                time, _ = run(lc_group=lc_group, scheduler=scheduler)\n",
    "                results.append(\n",
    "                    {\n",
    "                        \"group_size\": group_size,\n",
    "                        \"lc_length\": lc_length,\n",
    "                        \"scheduler\": scheduler,\n",
    "                        \"it\": it,\n",
    "                        \"time\": time,\n",
    "                    }\n",
    "                )\n",
    "\n",
    "df = pd.DataFrame(results)\n",
    "df.to_pickle(\"00_times.pkl\")"
   ]
  }
 ],
 "metadata": {
  "kernelspec": {
   "display_name": "env",
   "language": "python",
   "name": "python3"
  },
  "language_info": {
   "codemirror_mode": {
    "name": "ipython",
    "version": 3
   },
   "file_extension": ".py",
   "mimetype": "text/x-python",
   "name": "python",
   "nbconvert_exporter": "python",
   "pygments_lexer": "ipython3",
   "version": "3.12.7"
  }
 },
 "nbformat": 4,
 "nbformat_minor": 5
}
