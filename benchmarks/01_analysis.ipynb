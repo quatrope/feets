{
 "cells": [
  {
   "cell_type": "code",
   "execution_count": 1,
   "id": "d0eeaf03-130e-4be9-83a6-e95d76de9fca",
   "metadata": {},
   "outputs": [],
   "source": [
    "import os\n",
    "import pathlib\n",
    "\n",
    "import joblib\n",
    "\n",
    "import pandas as pd\n",
    "\n",
    "import seaborn as sns\n",
    "\n",
    "PATH = pathlib.Path(os.getcwd())\n",
    "RESULTS_PATH = PATH / \"cache\""
   ]
  },
  {
   "cell_type": "code",
   "execution_count": null,
   "id": "430ee6fa-8ea7-4602-8cc0-e12a45a9af35",
   "metadata": {},
   "outputs": [],
   "source": [
    "rows = []\n",
    "for file in RESULTS_PATH.iterdir():\n",
    "    row = joblib.load(file)\n",
    "    rows.append(row)\n",
    "\n",
    "df = pd.DataFrame(rows)\n",
    "del rows\n",
    "\n",
    "df"
   ]
  },
  {
   "cell_type": "code",
   "execution_count": null,
   "id": "9a909119-cb3f-4f08-b21d-013fd5a4cd52",
   "metadata": {},
   "outputs": [],
   "source": [
    "df.groupby(by='scheduler').describe().T"
   ]
  },
  {
   "cell_type": "code",
   "execution_count": null,
   "id": "6728e128-28b6-47a7-a3d2-3ec81d94cc82",
   "metadata": {},
   "outputs": [],
   "source": [
    "sns.boxplot(data=df, hue='scheduler', y='time', x='lc_length')"
   ]
  }
 ],
 "metadata": {
  "kernelspec": {
   "display_name": "env",
   "language": "python",
   "name": "python3"
  },
  "language_info": {
   "codemirror_mode": {
    "name": "ipython",
    "version": 3
   },
   "file_extension": ".py",
   "mimetype": "text/x-python",
   "name": "python",
   "nbconvert_exporter": "python",
   "pygments_lexer": "ipython3",
   "version": "3.12.7"
  }
 },
 "nbformat": 4,
 "nbformat_minor": 5
}
